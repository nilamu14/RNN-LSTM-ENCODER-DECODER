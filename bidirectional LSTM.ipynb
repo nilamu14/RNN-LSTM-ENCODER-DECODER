{
 "cells": [
  {
   "cell_type": "code",
   "execution_count": null,
   "id": "2d0129d4",
   "metadata": {},
   "outputs": [],
   "source": [
    "from tensorflow.keras.models import Model\n",
    "from tensorflow.keras.layers import Dense, Activation, Input\n",
    "from tensorflow.keras.layers import BatchNormalization, Dropout\n",
    "from tensorflow.keras.layers import Bidirectional, LSTM\n",
    "from tensorflow.keras.layers import RepeatVector, TimeDistributed\n",
    "from tensorflow.keras.datasets import mnist\n",
    "from tensorflow.keras.callbacks import ReduceLROnPlateau, EarlyStopping\n",
    "import numpy as np"
   ]
  },
  {
   "cell_type": "code",
   "execution_count": null,
   "id": "a3b802c0",
   "metadata": {},
   "outputs": [],
   "source": [
    "seqnc_lngth = 28\n",
    "ltnt_dim = 100 "
   ]
  },
  {
   "cell_type": "code",
   "execution_count": null,
   "id": "371272fe",
   "metadata": {},
   "outputs": [],
   "source": [
    "(x_train, y_train), (x_test, y_test) = mnist.load_data()\n",
    "\n",
    "x_train = x_train.astype('float32') / 255.\n",
    "x_test = x_test.astype('float32') / 255."
   ]
  },
  {
   "cell_type": "code",
   "execution_count": null,
   "id": "9d52a7d3",
   "metadata": {},
   "outputs": [],
   "source": [
    "## Encoder portion\n",
    "inpt_vec = Input(shape=(seqnc_lngth, seqnc_lngth,))"
   ]
  },
  {
   "cell_type": "code",
   "execution_count": null,
   "id": "0b6d68c8",
   "metadata": {},
   "outputs": [],
   "source": [
    "inpt_vec = Input(shape=(seqnc_lngth, seqnc_lngth,))\n",
    "l1 = Dropout(0.5)(inpt_vec)\n",
    "l2 = Bidirectional(LSTM(seqnc_lngth, activation='tanh', \n",
    "                        recurrent_activation='sigmoid'))(l1)\n",
    "l3 = BatchNormalization()(l2)\n",
    "l4 = Dropout(0.5)(l3)\n",
    "l5 = Dense(ltnt_dim, activation='sigmoid')(l4)\n",
    "\n",
    "# sequence to vector model\n",
    "encoder = Model(inpt_vec, l5, name='encoder')"
   ]
  },
  {
   "cell_type": "code",
   "execution_count": null,
   "id": "0702bdda",
   "metadata": {},
   "outputs": [],
   "source": [
    "## Decoder portion ##\n",
    "ltnt_vec = Input(shape=(ltnt_dim,))\n",
    "l6 = Dropout(0.1)(ltnt_vec)\n",
    "l7 = RepeatVector(seqnc_lngth)(l6)\n",
    "l8 = Bidirectional(LSTM(seqnc_lngth, activation='tanh', \n",
    "                   recurrent_activation='sigmoid', \n",
    "                   return_sequences=True))(l7)\n",
    "l9 = BatchNormalization()(l8)\n",
    "l10 = TimeDistributed(Dense(seqnc_lngth, activation='sigmoid'))(l9)"
   ]
  },
  {
   "cell_type": "code",
   "execution_count": null,
   "id": "aa7faaf3",
   "metadata": {},
   "outputs": [],
   "source": [
    "# vector to sequence model\n",
    "decoder = Model(ltnt_vec, l10, name='decoder')"
   ]
  },
  {
   "cell_type": "code",
   "execution_count": null,
   "id": "c52da709",
   "metadata": {},
   "outputs": [],
   "source": [
    "recon = decoder(encoder(inpt_vec))"
   ]
  },
  {
   "cell_type": "code",
   "execution_count": null,
   "id": "8111d542",
   "metadata": {},
   "outputs": [],
   "source": [
    "autoencoder = Model(inpt_vec, recon, name='ae')\n",
    "\n",
    "autoencoder.compile(loss='binary_crossentropy', optimizer='adam')\n",
    "autoencoder.summary()\n",
    "\n",
    "reduce_lr = ReduceLROnPlateau(monitor='val_loss', factor=0.5, patience=5, \n",
    "                              min_delta=1e-4, mode='min', verbose=1)\n",
    "\n",
    "stop_alg = EarlyStopping(monitor='val_loss', patience=15, \n",
    "                         restore_best_weights=True, verbose=1)\n",
    "\n",
    "hist = autoencoder.fit(x_train, x_train, batch_size=100, epochs=1000, \n",
    "                       callbacks=[stop_alg, reduce_lr], shuffle=True, \n",
    "                       validation_data=(x_test, x_test))"
   ]
  },
  {
   "cell_type": "code",
   "execution_count": null,
   "id": "a2d8f192",
   "metadata": {},
   "outputs": [],
   "source": [
    "import matplotlib.pyplot as plt"
   ]
  },
  {
   "cell_type": "code",
   "execution_count": null,
   "id": "20d9fdd0",
   "metadata": {},
   "outputs": [],
   "source": [
    "z = np.random.rand(1,100)\n",
    "x_ = decoder.predict(z)\n",
    "print(x_.shape)\n",
    "plt.imshow(x_[0], cmap='gray')"
   ]
  },
  {
   "cell_type": "code",
   "execution_count": null,
   "id": "7fc8a102",
   "metadata": {},
   "outputs": [],
   "source": []
  }
 ],
 "metadata": {
  "kernelspec": {
   "display_name": "Python 3 (ipykernel)",
   "language": "python",
   "name": "python3"
  },
  "language_info": {
   "codemirror_mode": {
    "name": "ipython",
    "version": 3
   },
   "file_extension": ".py",
   "mimetype": "text/x-python",
   "name": "python",
   "nbconvert_exporter": "python",
   "pygments_lexer": "ipython3",
   "version": "3.9.7"
  }
 },
 "nbformat": 4,
 "nbformat_minor": 5
}
