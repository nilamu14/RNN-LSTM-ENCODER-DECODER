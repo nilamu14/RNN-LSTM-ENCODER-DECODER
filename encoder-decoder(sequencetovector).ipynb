{
 "cells": [
  {
   "cell_type": "code",
   "execution_count": null,
   "id": "ecb819e3",
   "metadata": {},
   "outputs": [],
   "source": [
    "from keras.datasets import imdb\n",
    "from keras.preprocessing import sequence\n",
    "from tensorflow.keras.models import Model\n",
    "from tensorflow.keras.layers import LSTM , Embedding, BatchNormalization\n",
    "from tensorflow.keras.layers import Dense, Activation, Input,Dropout\n",
    "seqnc_length = 128\n",
    "embedding_dim = 64\n",
    "vocab_size = 10000\n",
    "(x_train,y_train),(x_test,y_test) = imdb.load_data(num_words=vocab_size,skip_top=20)\n",
    "x_train = sequence.pad_sequences(x_train, maxlen = seqnc_length).astype('float32')\n",
    "x_test = sequence.pad_sequences(x_test, maxlen = seqnc_length).astype('float32')"
   ]
  },
  {
   "cell_type": "code",
   "execution_count": null,
   "id": "e98bbccf",
   "metadata": {},
   "outputs": [],
   "source": [
    "inpt_vec = Input(shape=(seqnc_length,))\n",
    "l1 = Embedding(vocab_size, embedding_dim, input_length=seqnc_length)(inpt_vec)\n",
    "l2 = Dropout(0.3)(l1)\n",
    "l3 = LSTM(32)(l2)\n",
    "l4 = BatchNormalization()(l3)\n",
    "l5 = Dropout(0.2)(l4)\n",
    "output = Dense(1, activation='sigmoid')(l5)\n",
    "\n",
    "lstm = Model(inpt_vec, output)\n",
    "\n",
    "lstm.compile(loss='binary_crossentropy', optimizer='adam', \n",
    "             metrics=['accuracy'])\n",
    "lstm.summary()"
   ]
  },
  {
   "cell_type": "code",
   "execution_count": null,
   "id": "84409c21",
   "metadata": {},
   "outputs": [],
   "source": [
    "from tensorflow.keras.callbacks import ReduceLROnPlateau, EarlyStopping\n",
    "import matplotlib.pyplot as plt\n",
    "#callbacks\n",
    "reduce_lr = ReduceLROnPlateau(monitor='val_loss', factor=0.5, patience=3, min_delta=1e-4, mode='min', verbose=1)\n",
    "stop_alg = EarlyStopping(monitor='val_loss', patience=7, restore_best_weights=True, verbose=1)\n",
    "hist = lstm.fit(x_train, y_train, batch_size=100, epochs=100,  callbacks=[stop_alg, reduce_lr], shuffle=True, validation_data=(x_test, y_test))"
   ]
  },
  {
   "cell_type": "code",
   "execution_count": null,
   "id": "20126969",
   "metadata": {},
   "outputs": [],
   "source": [
    "# save and plot training process\n",
    "lstm.save_weights(\"lstm.hdf5\")\n",
    "\n",
    "fig = plt.figure(figsize=(10,6))\n",
    "plt.plot(hist.history['loss'], color='#785ef0')\n",
    "plt.plot(hist.history['val_loss'], color='#dc267f')\n",
    "plt.title('Model Loss Progress')\n",
    "plt.ylabel('Brinary Cross-Entropy Loss')\n",
    "plt.xlabel('Epoch')\n",
    "plt.legend(['Training Set', 'Test Set'], loc='upper right')\n",
    "plt.show()"
   ]
  },
  {
   "cell_type": "code",
   "execution_count": null,
   "id": "8a4e2e2b",
   "metadata": {},
   "outputs": [],
   "source": [
    "from sklearn.metrics import confusion_matrix\n",
    "from sklearn.metrics import balanced_accuracy_score\n",
    "from sklearn.metrics import roc_curve, auc\n",
    "import matplotlib.pyplot as plt\n",
    "import numpy as np\n",
    "\n",
    "y_hat = lstm.predict(x_test)\n",
    "\n",
    "# gets the ROC\n",
    "fpr, tpr, thresholds = roc_curve(y_test, y_hat)\n",
    "roc_auc = auc(fpr, tpr)\n",
    "\n",
    "# plots ROC\n",
    "fig = plt.figure(figsize=(10,6))\n",
    "plt.plot(fpr, tpr, color='#785ef0', \n",
    "         label='ROC curve (AUC = %0.2f)' % roc_auc)\n",
    "plt.plot([0, 1], [0, 1], color='#dc267f', linestyle='--')\n",
    "plt.xlim([0.0, 1.0])\n",
    "plt.ylim([0.0, 1.05])\n",
    "plt.xlabel('False Positive Rate')\n",
    "plt.ylabel('True Positive Rate')\n",
    "plt.title('Receiver Operating Characteristic Curve')\n",
    "plt.legend(loc=\"lower right\")\n",
    "plt.show()\n",
    "# finds optimal threshold and gets ACC and CM\n",
    "optimal_idx = np.argmax(tpr - fpr)\n",
    "optimal_threshold = thresholds[optimal_idx]\n",
    "print(\"Threshold value is:\", optimal_threshold)\n",
    "y_pred = np.where(y_hat>=optimal_threshold, 1, 0)\n",
    "print(balanced_accuracy_score(y_test, y_pred))\n",
    "print(confusion_matrix(y_test, y_pred))"
   ]
  },
  {
   "cell_type": "code",
   "execution_count": null,
   "id": "f839e478",
   "metadata": {},
   "outputs": [],
   "source": []
  }
 ],
 "metadata": {
  "kernelspec": {
   "display_name": "Python 3 (ipykernel)",
   "language": "python",
   "name": "python3"
  },
  "language_info": {
   "codemirror_mode": {
    "name": "ipython",
    "version": 3
   },
   "file_extension": ".py",
   "mimetype": "text/x-python",
   "name": "python",
   "nbconvert_exporter": "python",
   "pygments_lexer": "ipython3",
   "version": "3.9.7"
  }
 },
 "nbformat": 4,
 "nbformat_minor": 5
}
